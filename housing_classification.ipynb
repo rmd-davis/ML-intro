{
 "cells": [
  {
   "cell_type": "markdown",
   "metadata": {},
   "source": [
    "# Basic Intro to Machine Learning - Classification\n",
    "Using the The Ames Housing dataset compiled by Dean De Cock.\n",
    "\n",
    "In this notebook, we will look at how to apply classification."
   ]
  },
  {
   "cell_type": "code",
   "execution_count": 1,
   "metadata": {},
   "outputs": [],
   "source": [
    "# Import necessary packages\n",
    "\n",
    "# Pandas to handle the data\n",
    "import pandas as pd\n",
    "\n",
    "# Matplotlib and Seaborn for plotting\n",
    "import matplotlib.pyplot as plt\n",
    "import seaborn as sns\n",
    "\n",
    "# Set plotting style\n",
    "sns.set_theme(style = 'darkgrid')\n",
    "sns.set_context('notebook')\n",
    "\n",
    "# Scipy for linear regression\n",
    "import scipy\n",
    "\n",
    "# SciKit-Learn for machine learning\n",
    "from sklearn.linear_model import LinearRegression\n",
    "from sklearn.metrics import r2_score, mean_squared_error"
   ]
  }
 ],
 "metadata": {
  "interpreter": {
   "hash": "09dc4478fbc8c738def0b0030cd85816df6418367d204095b9d48e2eff823494"
  },
  "kernelspec": {
   "display_name": "Python 3.9.7 64-bit",
   "language": "python",
   "name": "python3"
  },
  "language_info": {
   "codemirror_mode": {
    "name": "ipython",
    "version": 3
   },
   "file_extension": ".py",
   "mimetype": "text/x-python",
   "name": "python",
   "nbconvert_exporter": "python",
   "pygments_lexer": "ipython3",
   "version": "3.9.7"
  },
  "orig_nbformat": 4
 },
 "nbformat": 4,
 "nbformat_minor": 2
}
