{
  "nbformat": 4,
  "nbformat_minor": 0,
  "metadata": {
    "colab": {
      "name": "Intro_to_the_intro.ipynb",
      "provenance": [],
      "collapsed_sections": [],
      "authorship_tag": "ABX9TyP1A8mYqzLeae9nJsq1Bl0s",
      "include_colab_link": true
    },
    "kernelspec": {
      "name": "python3",
      "display_name": "Python 3"
    },
    "language_info": {
      "name": "python"
    }
  },
  "cells": [
    {
      "cell_type": "markdown",
      "metadata": {
        "id": "view-in-github",
        "colab_type": "text"
      },
      "source": [
        "<a href=\"https://colab.research.google.com/github/rmd-davis/ML-intro/blob/main/Intro_to_the_intro.ipynb\" target=\"_parent\"><img src=\"https://colab.research.google.com/assets/colab-badge.svg\" alt=\"Open In Colab\"/></a>"
      ]
    },
    {
      "cell_type": "markdown",
      "source": [
        "# Welcome!\n",
        "\n",
        "Welcome to this introductory notebook which will give you a quick intro to Google Colab if you haven't seen it before.\n",
        "<br>\n",
        "### What is Google Colab?\n",
        "Google Colab is a free online platform for creating and running notebook scripts. It's a great way to learn, prototype, and easily share examples.\n",
        "<br>\n",
        "### What is Python and why are we using it?\n",
        "Python is a popular programming language that is often used for machine learning because it is (relatively) simple, flexible, and there is a large community that contributes. This makes it easy to tackle new challenges and solve problems you may encounter along the way.\n",
        "<br>\n",
        "### Can I write the code directly on my computer instead?\n",
        "Yes, you're free to write your code where it suits you, but you'll be responsible for having the right packages installed and solving dependency issues. When everyone is on Google Colab we know that we are all developing on the same environment.\n",
        "\n",
        "<br><br>\n",
        "*For an intro to Python basics, please see the following: \n",
        "<br>https://colab.research.google.com/github/data-psl/lectures2020/blob/master/notebooks/01_python_basics.ipynb*"
      ],
      "metadata": {
        "id": "NsY7mPq4onkF"
      }
    },
    {
      "cell_type": "code",
      "execution_count": null,
      "metadata": {
        "id": "qZgDq9KNoZXw"
      },
      "outputs": [],
      "source": [
        "# Now we are in a block of code\n",
        "# This is a commented line. It is here as an instruction, but it does not affect the execution of the code\n",
        "\n",
        "# To run a cell, either press CTRL + ENTER or click on the PLAY button on the left side of this block. \n",
        "# You can also run the cell through the 'Runtime' tab on the toolbar "
      ]
    },
    {
      "cell_type": "code",
      "source": [
        "# A basic calculation for number of seconds in a day\n",
        "seconds_per_day = 24 * 60 * 60\n",
        "\n",
        "# Print the result\n",
        "print(seconds_per_day)"
      ],
      "metadata": {
        "colab": {
          "base_uri": "https://localhost:8080/"
        },
        "id": "YFT7ADUQqmcp",
        "outputId": "88aa056c-f63d-4a06-ea91-b3f1f14a6e52"
      },
      "execution_count": null,
      "outputs": [
        {
          "output_type": "stream",
          "name": "stdout",
          "text": [
            "86400\n"
          ]
        }
      ]
    },
    {
      "cell_type": "code",
      "source": [
        "# Now we'll combine your name with some text\n",
        "# Try changing the my_name variable to your name, and run this cell.\n",
        "\n",
        "my_name = 'Robert'\n",
        "\n",
        "print('Congratulations ' + my_name + ', you\\'re all set for the Intro to ML course!')"
      ],
      "metadata": {
        "colab": {
          "base_uri": "https://localhost:8080/"
        },
        "id": "Grl-K26ItFvb",
        "outputId": "1ecc2e52-2041-4224-f3e2-0f431c8273e0"
      },
      "execution_count": null,
      "outputs": [
        {
          "output_type": "stream",
          "name": "stdout",
          "text": [
            "Congratulations Robert, you're all set for the Intro to ML course!\n"
          ]
        }
      ]
    }
  ]
}